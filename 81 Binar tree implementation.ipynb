{
 "cells": [
  {
   "cell_type": "code",
   "execution_count": 1,
   "id": "fd5c4241",
   "metadata": {},
   "outputs": [],
   "source": [
    "#to create node\n",
    "class Node:\n",
    "    def __init__(self,data):\n",
    "        self.data=data\n",
    "        self.data=None\n",
    "        self.data=None"
   ]
  },
  {
   "cell_type": "code",
   "execution_count": 2,
   "id": "5f0b28cb",
   "metadata": {},
   "outputs": [],
   "source": [
    "#to print the node\n",
    "def printTree(root):\n",
    "    if root==None:  #empty tree\n",
    "        return\n",
    "    print(root.data,end=\":\")\n",
    "    if rooot.left!=None:\n",
    "        print(\"L\",root.left.data,end=\",\")\n",
    "    if rooot.right!=None:\n",
    "        print(\"L\",root.right.data,end=\",\")\n",
    "    print()\n",
    "    printTree(root.left)\n",
    "    printTree(root.right)"
   ]
  },
  {
   "cell_type": "code",
   "execution_count": 3,
   "id": "1809f237",
   "metadata": {},
   "outputs": [],
   "source": [
    "#totake input\n",
    "\n",
    "def treeInput():\n",
    "    rootData=int(input())\n",
    "    if rootData==-1:\n",
    "        return None\n",
    "    \n",
    "    root=node(rootData)\n",
    "    left=treeInput()\n",
    "    right=treeInput()\n",
    "    \n",
    "    root.left=left\n",
    "    root.right=right\n",
    "    return root"
   ]
  },
  {
   "cell_type": "code",
   "execution_count": 4,
   "id": "fc82375d",
   "metadata": {},
   "outputs": [
    {
     "name": "stdout",
     "output_type": "stream",
     "text": [
      "4\n"
     ]
    },
    {
     "ename": "NameError",
     "evalue": "name 'node' is not defined",
     "output_type": "error",
     "traceback": [
      "\u001b[1;31m---------------------------------------------------------------------------\u001b[0m",
      "\u001b[1;31mNameError\u001b[0m                                 Traceback (most recent call last)",
      "Cell \u001b[1;32mIn[4], line 3\u001b[0m\n\u001b[0;32m      1\u001b[0m \u001b[38;5;66;03m#drive code\u001b[39;00m\n\u001b[1;32m----> 3\u001b[0m root\u001b[38;5;241m=\u001b[39m\u001b[43mtreeInput\u001b[49m\u001b[43m(\u001b[49m\u001b[43m)\u001b[49m\n\u001b[0;32m      4\u001b[0m printTree(root)\n",
      "Cell \u001b[1;32mIn[3], line 8\u001b[0m, in \u001b[0;36mtreeInput\u001b[1;34m()\u001b[0m\n\u001b[0;32m      5\u001b[0m \u001b[38;5;28;01mif\u001b[39;00m rootData\u001b[38;5;241m==\u001b[39m\u001b[38;5;241m-\u001b[39m\u001b[38;5;241m1\u001b[39m:\n\u001b[0;32m      6\u001b[0m     \u001b[38;5;28;01mreturn\u001b[39;00m \u001b[38;5;28;01mNone\u001b[39;00m\n\u001b[1;32m----> 8\u001b[0m root\u001b[38;5;241m=\u001b[39m\u001b[43mnode\u001b[49m(rootData)\n\u001b[0;32m      9\u001b[0m left\u001b[38;5;241m=\u001b[39mtreeInput()\n\u001b[0;32m     10\u001b[0m right\u001b[38;5;241m=\u001b[39mtreeInput()\n",
      "\u001b[1;31mNameError\u001b[0m: name 'node' is not defined"
     ]
    }
   ],
   "source": [
    "#drive code\n",
    "\n",
    "root=treeInput()\n",
    "printTree(root)"
   ]
  },
  {
   "cell_type": "code",
   "execution_count": null,
   "id": "f5ff59a7",
   "metadata": {},
   "outputs": [],
   "source": []
  }
 ],
 "metadata": {
  "kernelspec": {
   "display_name": "Python 3 (ipykernel)",
   "language": "python",
   "name": "python3"
  },
  "language_info": {
   "codemirror_mode": {
    "name": "ipython",
    "version": 3
   },
   "file_extension": ".py",
   "mimetype": "text/x-python",
   "name": "python",
   "nbconvert_exporter": "python",
   "pygments_lexer": "ipython3",
   "version": "3.10.9"
  }
 },
 "nbformat": 4,
 "nbformat_minor": 5
}

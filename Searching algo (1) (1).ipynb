{
 "cells": [
  {
   "cell_type": "markdown",
   "id": "2c8ac7c9",
   "metadata": {},
   "source": [
    "# BINARY SEARCH"
   ]
  },
  {
   "cell_type": "code",
   "execution_count": 1,
   "id": "b002168b",
   "metadata": {},
   "outputs": [
    {
     "name": "stdout",
     "output_type": "stream",
     "text": [
      "elemtnts is present at index 8\n"
     ]
    }
   ],
   "source": [
    "def binarySearch(arr,l,r,data):\n",
    "    while l<=r:\n",
    "        mid=l+(r-1)//2\n",
    "        if arr[mid]==data:\n",
    "            return mid\n",
    "        elif arr[mid]<data:\n",
    "            l=mid+1\n",
    "        else:\n",
    "            r=mid-1\n",
    "    return -1\n",
    "\n",
    "if __name__=='__main__':\n",
    "    arr=[5,7,8,15,17,35,23,34,45,56]\n",
    "    data=45\n",
    "    result=binarySearch(arr,0,len(arr)-1,data)\n",
    "    if result!=-1:\n",
    "        print(\"elemtnts is present at index\",result)\n",
    "    else:\n",
    "        print(\"elemtnts is  not present in array\")"
   ]
  },
  {
   "cell_type": "code",
   "execution_count": 2,
   "id": "21bc1f49",
   "metadata": {},
   "outputs": [
    {
     "name": "stdout",
     "output_type": "stream",
     "text": [
      "first=56\n",
      "second=45\n",
      "third=35\n"
     ]
    }
   ],
   "source": [
    "#find 3 shortest elements in array\n",
    "\n",
    "v=[5,7,8,15,17,35,23,34,45,56]\n",
    "v.sort()\n",
    "v.reverse()\n",
    "\n",
    "print(f\"first={v[0]}\")\n",
    "print(f\"second={v[1]}\")\n",
    "print(f\"third={v[2]}\")\n",
    "\n"
   ]
  },
  {
   "cell_type": "markdown",
   "id": "4d96ff7f",
   "metadata": {},
   "source": [
    "# LINEAR SEARCH ALGORITHM"
   ]
  },
  {
   "cell_type": "markdown",
   "id": "1d9aecdb",
   "metadata": {},
   "source": [
    "#### def linearSearch(arr,data,N):\n",
    "    for i in range(0,N):\n",
    "        if arr[i]==data:\n",
    "            return i\n",
    "    return -1\n",
    "\n",
    "if __name__==\"__main__\":\n",
    "    arr=[2,3,6,8,10,56]\n",
    "    data=10\n",
    "    N=len(arr)\n",
    "    result =linearSearch(arr,data,N)\n",
    "    if (result!=1):\n",
    "        print(\"element present in\",result)\n",
    "    else:\n",
    "        print(\"elements is not present\")\n",
    "        "
   ]
  },
  {
   "cell_type": "code",
   "execution_count": 3,
   "id": "6139a685",
   "metadata": {},
   "outputs": [
    {
     "name": "stdout",
     "output_type": "stream",
     "text": [
      "elemts is  present 3\n"
     ]
    }
   ],
   "source": [
    "def search(arr,N,x):\n",
    "    for i in range(0,N):\n",
    "        if(arr[i]==x):\n",
    "            return i\n",
    "    return -1\n",
    "\n",
    "if __name__==\"__main__\":\n",
    "    arr=[2,3,4,10,14,38]\n",
    "    x=10\n",
    "    N=len(arr)\n",
    "    result=search(arr,N,x)\n",
    "    if(result!=-1):\n",
    "        print(\"elemts is  present\",result)\n",
    "    else:\n",
    "        print(\"elements is present\")"
   ]
  }
 ],
 "metadata": {
  "kernelspec": {
   "display_name": "Python 3 (ipykernel)",
   "language": "python",
   "name": "python3"
  },
  "language_info": {
   "codemirror_mode": {
    "name": "ipython",
    "version": 3
   },
   "file_extension": ".py",
   "mimetype": "text/x-python",
   "name": "python",
   "nbconvert_exporter": "python",
   "pygments_lexer": "ipython3",
   "version": "3.10.9"
  }
 },
 "nbformat": 4,
 "nbformat_minor": 5
}

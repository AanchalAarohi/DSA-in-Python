{
 "cells": [
  {
   "cell_type": "code",
   "execution_count": 1,
   "id": "cdfec604",
   "metadata": {},
   "outputs": [
    {
     "name": "stdout",
     "output_type": "stream",
     "text": [
      "MOve disk 1 from_rod A to_rod C aux_rod B\n",
      "MOve disk 2 from_rod A to_rod C aux_rod B\n",
      "MOve disk 1 from_rod B to_rod C aux_rod A\n",
      "MOve disk 3 from_rod A to_rod C aux_rod B\n",
      "MOve disk 1 from_rod B to_rod C aux_rod A\n",
      "MOve disk 2 from_rod B to_rod C aux_rod A\n",
      "MOve disk 1 from_rod A to_rod C aux_rod B\n"
     ]
    }
   ],
   "source": [
    "def towerofhanoi(n,from_rod,to_rod,aux_rod):\n",
    "    if n==0:\n",
    "        return\n",
    "    towerofhanoi(n-1,from_rod,to_rod,aux_rod)\n",
    "    print(\"MOve disk\",n,\"from_rod\",from_rod,\"to_rod\",to_rod,\"aux_rod\",aux_rod)\n",
    "    towerofhanoi(n-1,aux_rod,to_rod,from_rod)\n",
    "    \n",
    "    \n",
    "N=3\n",
    "towerofhanoi(N,\"A\",\"C\",\"B\")\n",
    "        "
   ]
  },
  {
   "cell_type": "code",
   "execution_count": 2,
   "id": "3d2a3bdb",
   "metadata": {},
   "outputs": [
    {
     "name": "stdout",
     "output_type": "stream",
     "text": [
      "move disk 1 from_rod A to_rod C aux_rod B\n",
      "move disk 2 from_rod A to_rod C aux_rod B\n",
      "move disk 1 from_rod B to_rod C aux_rod A\n",
      "move disk 3 from_rod A to_rod C aux_rod B\n",
      "move disk 1 from_rod B to_rod C aux_rod A\n",
      "move disk 2 from_rod B to_rod C aux_rod A\n",
      "move disk 1 from_rod A to_rod C aux_rod B\n",
      "move disk 4 from_rod A to_rod C aux_rod B\n",
      "move disk 1 from_rod B to_rod C aux_rod A\n",
      "move disk 2 from_rod B to_rod C aux_rod A\n",
      "move disk 1 from_rod A to_rod C aux_rod B\n",
      "move disk 3 from_rod B to_rod C aux_rod A\n",
      "move disk 1 from_rod A to_rod C aux_rod B\n",
      "move disk 2 from_rod A to_rod C aux_rod B\n",
      "move disk 1 from_rod B to_rod C aux_rod A\n"
     ]
    }
   ],
   "source": [
    "def towerofhanoi(n,from_rod,to_rod,aux_rod):\n",
    "    if n==0:\n",
    "        return\n",
    "    towerofhanoi(n-1,from_rod,to_rod,aux_rod)\n",
    "    print(\"move disk\",n,\"from_rod\",from_rod,\"to_rod\",to_rod,\"aux_rod\",aux_rod)\n",
    "    towerofhanoi(n-1,aux_rod,to_rod,from_rod)\n",
    "    \n",
    "N=4\n",
    "towerofhanoi(N,\"A\",\"C\",\"B\")\n",
    "    "
   ]
  },
  {
   "cell_type": "code",
   "execution_count": null,
   "id": "2d6b7b07",
   "metadata": {},
   "outputs": [],
   "source": []
  }
 ],
 "metadata": {
  "kernelspec": {
   "display_name": "Python 3 (ipykernel)",
   "language": "python",
   "name": "python3"
  },
  "language_info": {
   "codemirror_mode": {
    "name": "ipython",
    "version": 3
   },
   "file_extension": ".py",
   "mimetype": "text/x-python",
   "name": "python",
   "nbconvert_exporter": "python",
   "pygments_lexer": "ipython3",
   "version": "3.10.9"
  }
 },
 "nbformat": 4,
 "nbformat_minor": 5
}

{
 "cells": [
  {
   "cell_type": "markdown",
   "id": "be136776",
   "metadata": {},
   "source": [
    "# NAIVE STRING PATTERN MATHING ALGORITHM"
   ]
  },
  {
   "cell_type": "code",
   "execution_count": 1,
   "id": "6f98894b",
   "metadata": {},
   "outputs": [
    {
     "name": "stdout",
     "output_type": "stream",
     "text": [
      "Pattern found at index 0\n",
      "Pattern found at index 9\n",
      "Pattern found at index 13\n"
     ]
    }
   ],
   "source": [
    "def search(pattrn,text):\n",
    "    M=len(pattrn)\n",
    "    N=len(txt)\n",
    "    for i in range(N-M):\n",
    "        for j in range(M):\n",
    "            k=j+1\n",
    "            if(txt[i+j]!=pattrn[j]):\n",
    "                break\n",
    "        if(k == M):\n",
    "            print(\"Pattern found at index\",i)\n",
    "\n",
    "txt=\"AABAACAADAABAAABAA\"\n",
    "pattrn=\"AABA\"\n",
    "search(pattrn,txt)"
   ]
  }
 ],
 "metadata": {
  "kernelspec": {
   "display_name": "Python 3 (ipykernel)",
   "language": "python",
   "name": "python3"
  },
  "language_info": {
   "codemirror_mode": {
    "name": "ipython",
    "version": 3
   },
   "file_extension": ".py",
   "mimetype": "text/x-python",
   "name": "python",
   "nbconvert_exporter": "python",
   "pygments_lexer": "ipython3",
   "version": "3.10.9"
  }
 },
 "nbformat": 4,
 "nbformat_minor": 5
}

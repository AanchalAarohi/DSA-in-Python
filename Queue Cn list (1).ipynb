{
 "cells": [
  {
   "cell_type": "markdown",
   "id": "e70476a3",
   "metadata": {},
   "source": [
    "# implementation of queue using list"
   ]
  },
  {
   "cell_type": "code",
   "execution_count": 1,
   "id": "c168031e",
   "metadata": {},
   "outputs": [
    {
     "name": "stdout",
     "output_type": "stream",
     "text": [
      "<class 'list'>\n"
     ]
    }
   ],
   "source": [
    "q=[]  #eklist lete hai\n",
    "print(type(q))"
   ]
  },
  {
   "cell_type": "code",
   "execution_count": 2,
   "id": "46c05f40",
   "metadata": {},
   "outputs": [
    {
     "name": "stdout",
     "output_type": "stream",
     "text": [
      "[10, 20, 30, 40]\n"
     ]
    }
   ],
   "source": [
    "#add elements in list from right hand side  (<---)\n",
    "\n",
    "q.append(10)\n",
    "q.append(20)\n",
    "q.append(30)\n",
    "q.append(40)\n",
    "print(q)                   #right side se insert kr rha hai queue me"
   ]
  },
  {
   "cell_type": "code",
   "execution_count": 3,
   "id": "e865e132",
   "metadata": {},
   "outputs": [
    {
     "name": "stdout",
     "output_type": "stream",
     "text": [
      "10\n",
      "[20, 30, 40]\n"
     ]
    }
   ],
   "source": [
    "#pop elements\n",
    "\n",
    "print(q.pop(0))   #queue ke index 0 se remove hogaa\n",
    "print(q)"
   ]
  },
  {
   "cell_type": "code",
   "execution_count": 4,
   "id": "de035aa5",
   "metadata": {},
   "outputs": [
    {
     "name": "stdout",
     "output_type": "stream",
     "text": [
      "20\n",
      "[30, 40]\n"
     ]
    }
   ],
   "source": [
    "print(q.pop(0))   #jo remaining queue hogi[20,30,40],fir uske 0 index se remove hoga\n",
    "print(q)        #queue me beech se remove mhin hopta"
   ]
  },
  {
   "cell_type": "code",
   "execution_count": 5,
   "id": "b1e41563",
   "metadata": {},
   "outputs": [
    {
     "name": "stdout",
     "output_type": "stream",
     "text": [
      "2\n"
     ]
    }
   ],
   "source": [
    "#size of queue\n",
    "\n",
    "print(len(q))   # queue me kitna elemnts bachha hai"
   ]
  },
  {
   "cell_type": "code",
   "execution_count": 6,
   "id": "21c28046",
   "metadata": {},
   "outputs": [
    {
     "name": "stdout",
     "output_type": "stream",
     "text": [
      "False\n"
     ]
    }
   ],
   "source": [
    "#isEmpty\n",
    "print(len(q)==0)  #if[30,40] is not pesent in queue then it print empty"
   ]
  },
  {
   "cell_type": "markdown",
   "id": "2450fbe1",
   "metadata": {},
   "source": [
    "# new list from left side "
   ]
  },
  {
   "cell_type": "code",
   "execution_count": 23,
   "id": "c6615265",
   "metadata": {},
   "outputs": [
    {
     "name": "stdout",
     "output_type": "stream",
     "text": [
      "<class 'list'>\n"
     ]
    }
   ],
   "source": [
    "r=[]  #ek new list lea\n",
    "print(type(r))"
   ]
  },
  {
   "cell_type": "code",
   "execution_count": 24,
   "id": "b1c56067",
   "metadata": {},
   "outputs": [
    {
     "name": "stdout",
     "output_type": "stream",
     "text": [
      "[40, 30, 20, 10]\n"
     ]
    }
   ],
   "source": [
    "#add elemnts from left hand side\n",
    "r.insert(0, 10)\n",
    "r.insert(0, 20)\n",
    "r.insert(0, 30)\n",
    "r.insert(0, 40)\n",
    "\n",
    "print(r)"
   ]
  },
  {
   "cell_type": "code",
   "execution_count": 25,
   "id": "8ee330f0",
   "metadata": {},
   "outputs": [
    {
     "name": "stdout",
     "output_type": "stream",
     "text": [
      "4\n"
     ]
    }
   ],
   "source": [
    "print(len(r)) #queue me kitna elements hai"
   ]
  },
  {
   "cell_type": "code",
   "execution_count": 26,
   "id": "32ff8abd",
   "metadata": {},
   "outputs": [
    {
     "name": "stdout",
     "output_type": "stream",
     "text": [
      "10\n",
      "[40, 30, 20]\n"
     ]
    }
   ],
   "source": [
    "#popelemts from queue from right side\n",
    "print(r.pop())\n",
    "print(r)"
   ]
  },
  {
   "cell_type": "code",
   "execution_count": 27,
   "id": "8213831e",
   "metadata": {},
   "outputs": [
    {
     "name": "stdout",
     "output_type": "stream",
     "text": [
      "20\n",
      "[40, 30]\n"
     ]
    }
   ],
   "source": [
    "print(r.pop())\n",
    "print(r)"
   ]
  },
  {
   "cell_type": "code",
   "execution_count": 28,
   "id": "e3f3a3a7",
   "metadata": {},
   "outputs": [
    {
     "name": "stdout",
     "output_type": "stream",
     "text": [
      "30\n",
      "[40]\n"
     ]
    }
   ],
   "source": [
    "print(r.pop(1))\n",
    "print(r)"
   ]
  },
  {
   "cell_type": "code",
   "execution_count": 22,
   "id": "acd460f9",
   "metadata": {},
   "outputs": [
    {
     "name": "stdout",
     "output_type": "stream",
     "text": [
      "2\n"
     ]
    }
   ],
   "source": [
    "print(len(q))  #kukiempty nhi h queue"
   ]
  },
  {
   "cell_type": "code",
   "execution_count": 29,
   "id": "8d98aa80",
   "metadata": {},
   "outputs": [
    {
     "name": "stdout",
     "output_type": "stream",
     "text": [
      "False\n"
     ]
    }
   ],
   "source": [
    "print(len(q)==0)"
   ]
  },
  {
   "cell_type": "code",
   "execution_count": null,
   "id": "7bcfe061",
   "metadata": {},
   "outputs": [],
   "source": []
  }
 ],
 "metadata": {
  "kernelspec": {
   "display_name": "Python 3 (ipykernel)",
   "language": "python",
   "name": "python3"
  },
  "language_info": {
   "codemirror_mode": {
    "name": "ipython",
    "version": 3
   },
   "file_extension": ".py",
   "mimetype": "text/x-python",
   "name": "python",
   "nbconvert_exporter": "python",
   "pygments_lexer": "ipython3",
   "version": "3.10.9"
  }
 },
 "nbformat": 4,
 "nbformat_minor": 5
}

{
 "cells": [
  {
   "cell_type": "markdown",
   "id": "9f5a7f07",
   "metadata": {},
   "source": [
    "#   # TREE TRAVERSING IN  BINARY TREE"
   ]
  },
  {
   "cell_type": "markdown",
   "id": "584d9aa3",
   "metadata": {},
   "source": [
    "# In order traversing"
   ]
  },
  {
   "cell_type": "code",
   "execution_count": 6,
   "id": "6717bee1",
   "metadata": {},
   "outputs": [
    {
     "name": "stdout",
     "output_type": "stream",
     "text": [
      "15 20 25 30 40 \n"
     ]
    }
   ],
   "source": [
    "#inorder traversal________________________________(left,root,right)\n",
    "class node:\n",
    "    def __init__(self,key):\n",
    "        self.right=None\n",
    "        self.left=None\n",
    "        self.key=key\n",
    "def Inorder(root):\n",
    "    if root:\n",
    "        Inorder(root.left) #left print\n",
    "        print(root.key,end=\" \") # root\n",
    "        Inorder(root.right)  # right\n",
    "root=node(30)\n",
    "root.left=node(20)\n",
    "root.right=node(40)\n",
    "root.left.left=node(15)\n",
    "root.left.right=node(25)\n",
    "Inorder(root)\n",
    "print()"
   ]
  },
  {
   "cell_type": "markdown",
   "id": "7c7e818e",
   "metadata": {},
   "source": [
    "# Pre order tree traversing"
   ]
  },
  {
   "cell_type": "code",
   "execution_count": 7,
   "id": "eb6291bb",
   "metadata": {},
   "outputs": [
    {
     "name": "stdout",
     "output_type": "stream",
     "text": [
      "30 20 15 25 40 \n"
     ]
    }
   ],
   "source": [
    "# preorder implementation of tree_________________________________(root,left,right)\n",
    "class node:\n",
    "    def __init__(self,key):\n",
    "        self.right=None\n",
    "        self.left=None\n",
    "        self.key=key\n",
    "def Preorder(root):\n",
    "    if root:\n",
    "        print(root.key,end=\" \")\n",
    "        Preorder(root.left)\n",
    "        Preorder(root.right)\n",
    "        \n",
    "root=node(30)\n",
    "root.left=node(20)\n",
    "root.right=node(40)\n",
    "root.left.left=node(15)\n",
    "root.left.right=node(25)\n",
    "Preorder(root)\n",
    "print()"
   ]
  },
  {
   "cell_type": "markdown",
   "id": "0baf57b7",
   "metadata": {},
   "source": [
    "# Post order Traversing"
   ]
  },
  {
   "cell_type": "code",
   "execution_count": 8,
   "id": "05539f26",
   "metadata": {},
   "outputs": [
    {
     "name": "stdout",
     "output_type": "stream",
     "text": [
      "15 25 20 40 30 \n"
     ]
    }
   ],
   "source": [
    "#post orderimplementation of tree________________________(left,right,root)\n",
    "class node:\n",
    "    def __init__(self,key):\n",
    "        self.right=None\n",
    "        self.left=None\n",
    "        self.key=key\n",
    "def Postorder(root):\n",
    "    if root:\n",
    "        Postorder(root.left)  #print left subtree\n",
    "        Postorder(root.right)  # print right subtree\n",
    "        print(root.key,end=\" \")   # print root\n",
    "        \n",
    "root=node(30)\n",
    "root.left=node(20)\n",
    "root.right=node(40)\n",
    "root.left.left=node(15)\n",
    "root.left.right=node(25)\n",
    "Postorder(root)\n",
    "print()"
   ]
  }
 ],
 "metadata": {
  "kernelspec": {
   "display_name": "Python 3 (ipykernel)",
   "language": "python",
   "name": "python3"
  },
  "language_info": {
   "codemirror_mode": {
    "name": "ipython",
    "version": 3
   },
   "file_extension": ".py",
   "mimetype": "text/x-python",
   "name": "python",
   "nbconvert_exporter": "python",
   "pygments_lexer": "ipython3",
   "version": "3.10.9"
  }
 },
 "nbformat": 4,
 "nbformat_minor": 5
}

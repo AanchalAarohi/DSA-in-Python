{
 "cells": [
  {
   "cell_type": "markdown",
   "id": "5cda1b2b",
   "metadata": {},
   "source": [
    "# stack using array"
   ]
  },
  {
   "cell_type": "code",
   "execution_count": 8,
   "id": "9c1c1f0e",
   "metadata": {},
   "outputs": [
    {
     "name": "stdout",
     "output_type": "stream",
     "text": [
      "Pushed item-10\n",
      "Pushed item-20\n",
      "Pushed item-30\n",
      "Pushed item-40\n",
      "POPED ITEM:40\n",
      "stack after poping an item['10', '20', '30']\n"
     ]
    }
   ],
   "source": [
    "def create_stack():\n",
    "    stack=[]\n",
    "    return stack\n",
    "\n",
    "#stack is empty or not\n",
    "def check_empty(stack):\n",
    "    return len(stack)==0\n",
    "\n",
    "#push the elemnts on stack\n",
    "def push(stack,item):\n",
    "    stack.append(item)\n",
    "    print(\"Pushed item-\"+ item)\n",
    "\n",
    "#remove the elements fom stack\n",
    "def pop(stack):\n",
    "    if(check_empty(stack)):\n",
    "        return \"stack is all ready empty\"\n",
    "    return stack.pop()\n",
    "\n",
    "#call the stack\n",
    "stack=create_stack()\n",
    "\n",
    "#pass the arguments\n",
    "push(stack,str(10))\n",
    "push(stack,str(20))\n",
    "push(stack,str(30))\n",
    "push(stack,str(40))\n",
    "\n",
    "#print the popeed elemts\n",
    "print(\"POPED ITEM:\"+pop(stack))\n",
    "\n",
    "#print the remainung stack\n",
    "print(\"stack after poping an item\"+str(stack))"
   ]
  },
  {
   "cell_type": "markdown",
   "id": "1986ed01",
   "metadata": {},
   "source": [
    "# reverse a string useing stack in python"
   ]
  },
  {
   "cell_type": "code",
   "execution_count": 9,
   "id": "c6ca64f1",
   "metadata": {},
   "outputs": [
    {
     "name": "stdout",
     "output_type": "stream",
     "text": [
      "REVERSE OF STRING: <function reverse at 0x000002505BA81630>\n"
     ]
    }
   ],
   "source": [
    "def push(stack,i):\n",
    "    stack.append(i)\n",
    "\n",
    "def check_empty(stack):\n",
    "    if(len(stack)==0):\n",
    "        return True\n",
    "    return False\n",
    "def pop(stack):\n",
    "    if (check_empty(stack)==0):\n",
    "        return\n",
    "    return stack.pop()\n",
    "    \n",
    "def reverse(str):\n",
    "    n=len(str)\n",
    "    stack=[]\n",
    "    for i in range(n):\n",
    "        push(stack,str[i])\n",
    "        str=\"\"\n",
    "    for i in range(n):\n",
    "             str+=pop(stack)\n",
    "    return str\n",
    "             \n",
    "str=\"aanchal\"\n",
    "print(\"REVERSE OF STRING:\",reverse)"
   ]
  },
  {
   "cell_type": "code",
   "execution_count": 11,
   "id": "9cf73e68",
   "metadata": {},
   "outputs": [
    {
     "name": "stdout",
     "output_type": "stream",
     "text": [
      "reverse string:- <function reverse at 0x000002505BA81900>\n"
     ]
    }
   ],
   "source": [
    "def push(stack,i):\n",
    "    stack.append(i)\n",
    "    \n",
    "def isEmpty(stack):\n",
    "    if(len(stack)==0):\n",
    "        return True\n",
    "    return False\n",
    "\n",
    "def pop(stack):\n",
    "    if isEmpty(stack):\n",
    "        return\n",
    "    return stack.pop()\n",
    "\n",
    "def reverse(str):\n",
    "    n=len(str)\n",
    "    stack=[]\n",
    "    for i in range(n):\n",
    "        push(stack.str[i])\n",
    "    str=\"\"\n",
    "    for i in range(n):\n",
    "        str+=pop(stack)\n",
    "    return str\n",
    "\n",
    "\n",
    "str=\"Aanchal\"\n",
    "print(\"reverse string:-\",reverse)"
   ]
  },
  {
   "cell_type": "code",
   "execution_count": null,
   "id": "c628b9a7",
   "metadata": {},
   "outputs": [],
   "source": []
  }
 ],
 "metadata": {
  "kernelspec": {
   "display_name": "Python 3 (ipykernel)",
   "language": "python",
   "name": "python3"
  },
  "language_info": {
   "codemirror_mode": {
    "name": "ipython",
    "version": 3
   },
   "file_extension": ".py",
   "mimetype": "text/x-python",
   "name": "python",
   "nbconvert_exporter": "python",
   "pygments_lexer": "ipython3",
   "version": "3.10.9"
  }
 },
 "nbformat": 4,
 "nbformat_minor": 5
}
